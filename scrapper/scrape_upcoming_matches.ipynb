{
 "cells": [
  {
   "cell_type": "code",
   "execution_count": 1,
   "metadata": {},
   "outputs": [],
   "source": [
    "from bs4 import BeautifulSoup\n",
    "import requests\n",
    "import re\n",
    "import datetime"
   ]
  },
  {
   "cell_type": "code",
   "execution_count": 2,
   "metadata": {},
   "outputs": [],
   "source": [
    "match_url = \"https://www.cricbuzz.com/cricket-match-squads/77863/rsa-vs-ind-2nd-t20i-india-tour-of-south-africa-2023-24\"\n",
    "# started_match_url = \"https://www.cricbuzz.com/cricket-match-squads/77863/rsa-vs-ind-2nd-t20i-india-tour-of-south-africa-2023-24\""
   ]
  },
  {
   "cell_type": "code",
   "execution_count": 3,
   "metadata": {},
   "outputs": [],
   "source": [
    "COUNTRY_MAP = {\n",
    "    \"afghanistan\": \"AFG\",\n",
    "    \"australia\": \"AUS\",\n",
    "    \"bangladesh\": \"BAN\",\n",
    "    \"england\": \"ENG\",\n",
    "    \"india\": \"IND\",\n",
    "    \"ireland\": \"IRE\",\n",
    "    \"new zealand\": \"NZ\",\n",
    "    \"pakistan\": \"PAK\",\n",
    "    \"south africa\": \"SA\",\n",
    "    \"sri lanka\": \"SL\",\n",
    "    \"west indies\": \"WI\",\n",
    "    \"zimbabwe\": \"ZIM\",\n",
    "    \"netherlands\": \"NED\"\n",
    "}"
   ]
  },
  {
   "cell_type": "code",
   "execution_count": 4,
   "metadata": {},
   "outputs": [],
   "source": [
    "website_html = requests.get(match_url)\n",
    "soup = BeautifulSoup(website_html.content, 'html.parser')"
   ]
  },
  {
   "cell_type": "code",
   "execution_count": 5,
   "metadata": {},
   "outputs": [],
   "source": [
    "# Get the match title\n",
    "\n",
    "p_match_title = re.compile(r'\\bcb-nav-hdr\\b')\n",
    "match_full_title = soup.find('h1', class_=p_match_title).text\n",
    "match_title = match_full_title.split(',')[0]\n",
    "team1 = match_title.split('vs')[0].strip()\n",
    "team2 = match_title.split('vs')[1].strip()\n",
    "team1_code = COUNTRY_MAP[team1.lower()]\n",
    "team2_code = COUNTRY_MAP[team2.lower()]"
   ]
  },
  {
   "cell_type": "code",
   "execution_count": 6,
   "metadata": {},
   "outputs": [],
   "source": [
    "p_series = re.compile(r'\\bcb-nav-subhdr\\b')\n",
    "match_info_soup = soup.find('div', class_=p_series)\n",
    "series = match_info_soup.find_all('a')[0]['title']\n",
    "venue = match_info_soup.find_all('a')[1]['title']\n",
    "match_start_date_time = match_info_soup.find('span', {'itemprop': 'startDate'})['content']\n",
    "start_date = datetime.datetime.strptime(match_start_date_time, '%Y-%m-%dT%H:%M:%S%z').strftime('%Y-%m-%d')\n",
    "start_time = datetime.datetime.strptime(match_start_date_time, '%Y-%m-%dT%H:%M:%S%z').strftime('%H:%M:%S') # time is in UTC\n",
    "end_date = match_info_soup.find('span', {'itemprop': 'endDate'})['content']"
   ]
  },
  {
   "cell_type": "code",
   "execution_count": 7,
   "metadata": {},
   "outputs": [],
   "source": [
    "# Playing 11 \n",
    "\n",
    "cricbuzz_match_id = match_url.split('/')[-2]\n",
    "squad_url = f\"https://www.cricbuzz.com/api/html/match-squads/{cricbuzz_match_id}\"\n",
    "squad_html = requests.get(squad_url)\n",
    "squad_soup = BeautifulSoup(squad_html.content, 'html.parser')"
   ]
  },
  {
   "cell_type": "code",
   "execution_count": null,
   "metadata": {},
   "outputs": [],
   "source": [
    "# team1_sqaud = {\n",
    "#     \"name\": \"\"\n",
    "#     \"players\": {\n",
    "#         \"player_name\": \"player_role\",\n",
    "#         .....\n",
    "#     }\n",
    "# }\n",
    "\n",
    "# same for team2"
   ]
  },
  {
   "cell_type": "code",
   "execution_count": 8,
   "metadata": {},
   "outputs": [],
   "source": [
    "def get_playing11(playing11_list):\n",
    "    team_sqaud = {\n",
    "        'playing11': {}\n",
    "    }\n",
    "\n",
    "    for player in playing11_list:\n",
    "        player_role = player.find_next('div').find_next('div').find_next('div').find('span', {'class':'cb-font-12 text-gray'}).text.strip()\n",
    "        player_name_role = player.find_next('div').find_next('div').find_next('div').text.strip()\n",
    "        player_name = player_name_role.replace(player_role, '').strip()\n",
    "        if '(C)' in player_name: \n",
    "            player_name = player_name.replace('(C)', '').strip()\n",
    "            team_sqaud['captain'] = player_name\n",
    "        elif '(WK)' in player_name:\n",
    "            player_name = player_name.replace('(WK)', '').strip()\n",
    "            team_sqaud['wicket_keeper'] = player_name\n",
    "        elif '(C & WK)' in player_name:\n",
    "            player_name = player_name.replace('(C & WK)', '').strip()\n",
    "            team_sqaud['captain'] = player_name\n",
    "            team_sqaud['wicket_keeper'] = player_name\n",
    "        team_sqaud['playing11'][player_name] = player_role\n",
    "        \n",
    "    return team_sqaud"
   ]
  },
  {
   "cell_type": "code",
   "execution_count": 13,
   "metadata": {},
   "outputs": [],
   "source": [
    "def get_bench_players(bench_players_list):\n",
    "    team_squad = {\n",
    "        'bench_players': {}\n",
    "    }\n",
    "\n",
    "    for player in bench_players_list:\n",
    "        player_role = player.find_next('div').find_next('div').find_next('div').find('span', {\n",
    "            'class': 'cb-font-12 text-gray'}).text.strip()\n",
    "        player_name_role = player.find_next('div').find_next('div').find_next('div').text.strip()\n",
    "        player_name = player_name_role.replace(player_role, '').strip()\n",
    "        if '(WK)' in player_name:\n",
    "            player_name = player_name.replace('(WK)', '').strip()\n",
    "        team_squad['bench_players'][player_name] = player_role\n",
    "\n",
    "    return team_squad"
   ]
  },
  {
   "cell_type": "code",
   "execution_count": 14,
   "metadata": {},
   "outputs": [],
   "source": [
    "team1_sqaud = {\n",
    "    'playing11': {}\n",
    "}\n",
    "team2_sqaud = {\n",
    "    'playing11': {}\n",
    "}\n",
    "\n",
    "team1_sqaud['country_code'] = squad_soup.find('a', {'class': 'cb-team1'}).find_next('div').find_next('div').text.strip()\n",
    "team2_sqaud['country_code'] = squad_soup.find('a', {'class': 'cb-team2'}).find_next('div').find_next('div').text.strip()\n",
    "\n",
    "team1_playing11_list_soup = squad_soup.find('div', {'class': 'cb-col cb-col-50 cb-play11-lft-col'}).find_all('a')\n",
    "team2_playing11_list_soup = squad_soup.find('div', {'class': 'cb-col cb-col-50 cb-play11-rt-col'}).find_all('a')\n",
    "\n",
    "team1_playing11_sqaud = get_playing11(team1_playing11_list_soup)\n",
    "team2_playing11_sqaud = get_playing11(team2_playing11_list_soup)\n",
    "\n",
    "team1_bench_players_list_soup = squad_soup.find_all('div', {'class': 'cb-col cb-col-50 cb-play11-lft-col'})[\n",
    "            1].find_all('a')\n",
    "team2_bench_players_list_soup = squad_soup.find_all('div', {'class': 'cb-col cb-col-50 cb-play11-rt-col'})[\n",
    "            1].find_all('a')\n",
    "\n",
    "team1_bench_players_squad = get_bench_players(team1_bench_players_list_soup)\n",
    "team2_bench_players_squad = get_bench_players(team2_bench_players_list_soup)"
   ]
  },
  {
   "cell_type": "code",
   "execution_count": 16,
   "metadata": {},
   "outputs": [
    {
     "data": {
      "text/plain": [
       "{'bench_players': {'Shreyas Iyer': 'Batter',\n",
       "  'Deepak Chahar': 'Bowler',\n",
       "  'Ravi Bishnoi': 'Bowler',\n",
       "  'Ishan Kishan': 'WK-Batter',\n",
       "  'Washington Sundar': 'Batting Allrounder',\n",
       "  'Ruturaj Gaikwad': 'Batter'}}"
      ]
     },
     "execution_count": 16,
     "metadata": {},
     "output_type": "execute_result"
    }
   ],
   "source": [
    "team2_bench_players_squad"
   ]
  },
  {
   "cell_type": "code",
   "execution_count": null,
   "metadata": {},
   "outputs": [],
   "source": []
  },
  {
   "cell_type": "code",
   "execution_count": null,
   "metadata": {},
   "outputs": [],
   "source": []
  },
  {
   "cell_type": "code",
   "execution_count": null,
   "metadata": {},
   "outputs": [],
   "source": []
  },
  {
   "cell_type": "code",
   "execution_count": null,
   "metadata": {},
   "outputs": [],
   "source": []
  },
  {
   "cell_type": "code",
   "execution_count": null,
   "metadata": {},
   "outputs": [],
   "source": []
  },
  {
   "cell_type": "code",
   "execution_count": null,
   "metadata": {},
   "outputs": [],
   "source": []
  },
  {
   "cell_type": "code",
   "execution_count": null,
   "metadata": {},
   "outputs": [],
   "source": []
  },
  {
   "cell_type": "code",
   "execution_count": 17,
   "metadata": {},
   "outputs": [
    {
     "data": {
      "text/plain": [
       "False"
      ]
     },
     "execution_count": 17,
     "metadata": {},
     "output_type": "execute_result"
    }
   ],
   "source": [
    "len(squad_soup.find_all('div', {'class': 'cb-col cb-col-50 cb-play11-lft-col'})) == 3"
   ]
  },
  {
   "cell_type": "code",
   "execution_count": null,
   "metadata": {},
   "outputs": [],
   "source": []
  },
  {
   "cell_type": "code",
   "execution_count": null,
   "metadata": {},
   "outputs": [],
   "source": []
  },
  {
   "cell_type": "code",
   "execution_count": null,
   "metadata": {},
   "outputs": [],
   "source": []
  }
 ],
 "metadata": {
  "kernelspec": {
   "display_name": "resume_parser_3.8.16",
   "language": "python",
   "name": "python3"
  },
  "language_info": {
   "codemirror_mode": {
    "name": "ipython",
    "version": 3
   },
   "file_extension": ".py",
   "mimetype": "text/x-python",
   "name": "python",
   "nbconvert_exporter": "python",
   "pygments_lexer": "ipython3",
   "version": "3.8.16"
  },
  "orig_nbformat": 4,
  "vscode": {
   "interpreter": {
    "hash": "0f1230d76e4e4c480a3d0be76245f8daf28021e0c2a980a73fb7f2b6114931c1"
   }
  }
 },
 "nbformat": 4,
 "nbformat_minor": 2
}
