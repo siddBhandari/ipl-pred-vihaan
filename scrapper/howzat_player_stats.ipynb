{
 "cells": [
  {
   "cell_type": "code",
   "execution_count": 82,
   "metadata": {},
   "outputs": [],
   "source": [
    "from bs4 import BeautifulSoup\n",
    "import requests\n",
    "import json"
   ]
  },
  {
   "cell_type": "code",
   "execution_count": 5,
   "metadata": {},
   "outputs": [],
   "source": [
    "base_howzat_url = \"http://www.howstat.com/cricket/Statistics/Players/PlayerList.asp?Group=\"\n",
    "groups = ['A', 'B', 'C', 'D', 'E', 'F', 'G', 'H', 'I', 'J', 'K', 'L', 'M', 'N','O', 'P', 'Q', 'R', 'S', 'T', 'U', 'V', 'W', 'X','Y','Z']\n",
    "\n",
    "player_base_test_url = \"http://www.howstat.com/cricket/Statistics/Players/PlayerOverview.asp?PlayerID=\"\n",
    "player_base_odi_url = \"http://www.howstat.com/cricket/Statistics/Players/PlayerOverview_ODI.asp?PlayerID=\"\n",
    "player_base_t20_url = \"http://www.howstat.com/cricket/Statistics/Players/PlayerOverview_T20.asp?PlayerID=\"\n",
    "player_summary_url = \"http://www.howstat.com/cricket/Statistics/Players/PlayerOverviewSummary.asp?PlayerID=\""
   ]
  },
  {
   "cell_type": "code",
   "execution_count": 6,
   "metadata": {},
   "outputs": [],
   "source": [
    "website_html = requests.get(base_howzat_url + groups[0])\n",
    "soup = BeautifulSoup(website_html.content, 'html.parser')"
   ]
  },
  {
   "cell_type": "code",
   "execution_count": 24,
   "metadata": {},
   "outputs": [],
   "source": [
    "# the table has <tr> tags with bgcolor=\"#FFFFFF\" and bgcolor=\"#E3FBE9\". So we will get all the <tr> tags based for the tabel.\n",
    "table = soup.find('table', class_=\"TableLined\")\n",
    "row = table.find_all('tr', attrs={'bgcolor': '#FFFFFF'})\n",
    "odd_row = table.find_all('tr', attrs={'bgcolor': '#E3FBE9'})\n",
    "row.extend(odd_row)"
   ]
  },
  {
   "cell_type": "code",
   "execution_count": 62,
   "metadata": {},
   "outputs": [],
   "source": [
    "player = row[0].find_all('td')\n",
    "player_name = player[0].find('a').text.strip().lower()\n",
    "player_id = int(player[0].find('a')['href'].split('=')[-1])\n",
    "player_dob = player[1].text.strip()\n",
    "player_country = player[2].text.strip().lower()\n",
    "player_test_matches = 0 if player[3].text.strip() == '' else int(player[3].text.strip())\n",
    "player_odi_matches = 0 if player[4].text.strip() == '' else int(player[4].text.strip())\n",
    "player_t20_matches = 0 if player[5].text.strip() == '' else int(player[5].text.strip())\n"
   ]
  },
  {
   "cell_type": "code",
   "execution_count": 66,
   "metadata": {},
   "outputs": [
    {
     "data": {
      "text/plain": [
       "6329"
      ]
     },
     "execution_count": 66,
     "metadata": {},
     "output_type": "execute_result"
    }
   ],
   "source": [
    "player_id"
   ]
  },
  {
   "cell_type": "code",
   "execution_count": 67,
   "metadata": {},
   "outputs": [],
   "source": [
    "ALL_PLAYERS = []\n",
    "\n",
    "for group in groups:\n",
    "    request_url = base_howzat_url + group\n",
    "    website_html = requests.get(request_url)\n",
    "    soup = BeautifulSoup(website_html.content, 'html.parser')\n",
    "    table = soup.find('table', class_=\"TableLined\")\n",
    "    row = table.find_all('tr', attrs={'bgcolor': '#FFFFFF'})\n",
    "    odd_row = table.find_all('tr', attrs={'bgcolor': '#E3FBE9'})\n",
    "    row.extend(odd_row)\n",
    "\n",
    "    for player_row in row:\n",
    "        player_json = {}\n",
    "        player = player_row.find_all('td')\n",
    "        player_json[\"name\"] = player[0].find('a').text.strip().lower()\n",
    "        player_json[\"id\"] = int(player[0].find('a')['href'].split('=')[-1])\n",
    "        player_json[\"dob\"] = player[1].text.strip()\n",
    "        player_json[\"country\"] = player[2].text.strip().lower()\n",
    "        player_json[\"test_matches\"] = 0 if player[3].text.strip() == '' else int(player[3].text.strip())\n",
    "        player_json[\"odi_matches\"] = 0 if player[4].text.strip() == '' else int(player[4].text.strip())\n",
    "        player_json[\"t20_matches\"] = 0 if player[5].text.strip() == '' else int(player[5].text.strip())\n",
    "        ALL_PLAYERS.append(player_json)\n",
    "\n",
    "\n",
    "\n",
    "with open('howzat_players.json', 'w') as outfile:\n",
    "    json.dump(ALL_PLAYERS, outfile)"
   ]
  },
  {
   "cell_type": "code",
   "execution_count": 70,
   "metadata": {},
   "outputs": [
    {
     "data": {
      "text/plain": [
       "6740"
      ]
     },
     "execution_count": 70,
     "metadata": {},
     "output_type": "execute_result"
    }
   ],
   "source": [
    "len(ALL_PLAYERS)"
   ]
  },
  {
   "cell_type": "code",
   "execution_count": 83,
   "metadata": {},
   "outputs": [],
   "source": [
    "js = json.dumps(ALL_PLAYERS)"
   ]
  },
  {
   "cell_type": "code",
   "execution_count": 84,
   "metadata": {},
   "outputs": [],
   "source": [
    "with open('howzat_players.json', 'w') as outfile:\n",
    "    outfile.write(js)"
   ]
  },
  {
   "cell_type": "code",
   "execution_count": 86,
   "metadata": {},
   "outputs": [],
   "source": [
    "file = open('howzat_players.json', 'w')\n",
    "file.write(js)\n",
    "file.close()"
   ]
  },
  {
   "cell_type": "code",
   "execution_count": 88,
   "metadata": {},
   "outputs": [],
   "source": [
    "with open('./howzat_json/howzat_players.json', 'w') as outfile:\n",
    "    json.dump(ALL_PLAYERS, outfile)"
   ]
  },
  {
   "cell_type": "code",
   "execution_count": null,
   "metadata": {},
   "outputs": [],
   "source": []
  },
  {
   "cell_type": "code",
   "execution_count": null,
   "metadata": {},
   "outputs": [],
   "source": []
  },
  {
   "cell_type": "code",
   "execution_count": null,
   "metadata": {},
   "outputs": [],
   "source": []
  },
  {
   "cell_type": "code",
   "execution_count": null,
   "metadata": {},
   "outputs": [],
   "source": []
  }
 ],
 "metadata": {
  "kernelspec": {
   "display_name": "cricket_yug_scrapper",
   "language": "python",
   "name": "python3"
  },
  "language_info": {
   "codemirror_mode": {
    "name": "ipython",
    "version": 3
   },
   "file_extension": ".py",
   "mimetype": "text/x-python",
   "name": "python",
   "nbconvert_exporter": "python",
   "pygments_lexer": "ipython3",
   "version": "3.9.17 (main, Sep 26 2023, 23:15:58) \n[Clang 14.0.0 (clang-1400.0.29.202)]"
  },
  "orig_nbformat": 4,
  "vscode": {
   "interpreter": {
    "hash": "f2ae736067da83993a024b9e3042554a0aca5d94981299383de273cbd5038ea5"
   }
  }
 },
 "nbformat": 4,
 "nbformat_minor": 2
}
