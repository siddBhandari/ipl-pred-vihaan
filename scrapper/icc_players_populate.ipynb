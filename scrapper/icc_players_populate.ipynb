{
 "cells": [
  {
   "cell_type": "code",
   "execution_count": 1,
   "metadata": {},
   "outputs": [],
   "source": [
    "import json\n",
    "import pandas as pd"
   ]
  },
  {
   "cell_type": "code",
   "execution_count": 190,
   "metadata": {},
   "outputs": [],
   "source": [
    "data = pd.read_csv('icc_players.csv')"
   ]
  },
  {
   "cell_type": "code",
   "execution_count": 191,
   "metadata": {},
   "outputs": [],
   "source": [
    "ODI_ALLROUNDER = open('./icc_json/odi_allrounder.json', 'r')\n",
    "ODI_BATSMAN = open('./icc_json/odi_batting.json', 'r')\n",
    "ODI_BOWLER = open('./icc_json/odi_bowling.json', 'r')\n",
    "T20_ALLROUNDER = open('./icc_json/t20_allrounder.json', 'r')\n",
    "T20_BATSMAN = open('./icc_json/t20_batting.json', 'r')\n",
    "T20_BOWLER = open('./icc_json/t20_bowling.json', 'r')\n",
    "TEST_ALLROUNDER = open('./icc_json/test_allrounder.json', 'r')\n",
    "TEST_BATSMAN = open('./icc_json/test_batting.json', 'r')\n",
    "TEST_BOWLER = open('./icc_json/test_bowling.json', 'r')"
   ]
  },
  {
   "cell_type": "code",
   "execution_count": 192,
   "metadata": {},
   "outputs": [],
   "source": [
    "json_data = json.load(TEST_BOWLER)"
   ]
  },
  {
   "cell_type": "code",
   "execution_count": 193,
   "metadata": {},
   "outputs": [
    {
     "name": "stdout",
     "output_type": "stream",
     "text": [
      "Found:  8 8.0\n",
      "Found:  1664 1664.0\n",
      "Found:  9 9.0\n",
      "Found:  192 192.0\n",
      "Found:  488 488.0\n",
      "Found:  4434 4434.0\n",
      "Found:  797 797.0\n",
      "Found:  1124 1124.0\n",
      "Found:  5268 5268.0\n",
      "Found:  1616 1616.0\n",
      "Found:  307 307.0\n",
      "Found:  857 857.0\n",
      "Found:  5433 5433.0\n",
      "Found:  410 410.0\n",
      "Found:  2749 2749.0\n",
      "Found:  1904 1904.0\n",
      "Found:  967 967.0\n",
      "Found:  1075 1075.0\n",
      "Found:  1894 1894.0\n",
      "Found:  17068 17068.0\n",
      "Found:  201 201.0\n",
      "Found:  201 201.0\n",
      "Found:  3363 3363.0\n",
      "Found:  1505 1505.0\n",
      "Found:  19998 19998.0\n",
      "Found:  3840 3840.0\n",
      "Found:  1902 1902.0\n",
      "Found:  3746 3746.0\n",
      "Found:  3098 3098.0\n",
      "Found:  871 871.0\n",
      "Found:  1154 1154.0\n",
      "Found:  19107 19107.0\n",
      "Found:  3154 3154.0\n",
      "Found:  261 261.0\n",
      "Found:  1735 1735.0\n",
      "Found:  1745 1745.0\n",
      "Found:  3085 3085.0\n",
      "Found:  3085 3085.0\n",
      "Found:  3085 3085.0\n",
      "Found:  1475 1475.0\n",
      "Found:  3321 3321.0\n",
      "Found:  1304 1304.0\n",
      "Found:  2879 2879.0\n",
      "Found:  887 887.0\n",
      "Found:  3711 3711.0\n",
      "Found:  4093 4093.0\n",
      "Found:  3858 3858.0\n",
      "Found:  1922 1922.0\n",
      "Found:  4598 4598.0\n",
      "Found:  1594 1594.0\n",
      "Found:  3195 3195.0\n",
      "Found:  3195 3195.0\n",
      "Found:  2894 2894.0\n",
      "Found:  4208 4208.0\n",
      "Found:  19581 19581.0\n",
      "Found:  1839 1839.0\n",
      "Found:  4023 4023.0\n",
      "Found:  909 909.0\n",
      "Found:  1295 1295.0\n",
      "Found:  5281 5281.0\n"
     ]
    },
    {
     "name": "stderr",
     "output_type": "stream",
     "text": [
      "/var/folders/8k/q48h_7553617mysx99dwsgwc0000gn/T/ipykernel_32071/4058087554.py:7: SettingWithCopyWarning: \n",
      "A value is trying to be set on a copy of a slice from a DataFrame\n",
      "\n",
      "See the caveats in the documentation: https://pandas.pydata.org/pandas-docs/stable/user_guide/indexing.html#returning-a-view-versus-a-copy\n",
      "  data['rank'][j] = json_data[i]['rank']\n",
      "/var/folders/8k/q48h_7553617mysx99dwsgwc0000gn/T/ipykernel_32071/4058087554.py:8: SettingWithCopyWarning: \n",
      "A value is trying to be set on a copy of a slice from a DataFrame\n",
      "\n",
      "See the caveats in the documentation: https://pandas.pydata.org/pandas-docs/stable/user_guide/indexing.html#returning-a-view-versus-a-copy\n",
      "  data['rating'][j] = json_data[i]['rating']\n",
      "/var/folders/8k/q48h_7553617mysx99dwsgwc0000gn/T/ipykernel_32071/4058087554.py:9: SettingWithCopyWarning: \n",
      "A value is trying to be set on a copy of a slice from a DataFrame\n",
      "\n",
      "See the caveats in the documentation: https://pandas.pydata.org/pandas-docs/stable/user_guide/indexing.html#returning-a-view-versus-a-copy\n",
      "  data['format'][j] = 'TEST'\n",
      "/var/folders/8k/q48h_7553617mysx99dwsgwc0000gn/T/ipykernel_32071/4058087554.py:10: SettingWithCopyWarning: \n",
      "A value is trying to be set on a copy of a slice from a DataFrame\n",
      "\n",
      "See the caveats in the documentation: https://pandas.pydata.org/pandas-docs/stable/user_guide/indexing.html#returning-a-view-versus-a-copy\n",
      "  data['icc_role'][j] = \"Bowler\"\n"
     ]
    },
    {
     "name": "stdout",
     "output_type": "stream",
     "text": [
      "Found:  2909 2909.0\n",
      "Found:  1460 1460.0\n",
      "Found:  2905 2905.0\n",
      "Found:  217 217.0\n"
     ]
    }
   ],
   "source": [
    "for i in range(len(json_data)):\n",
    "    for j in range(len(data)):\n",
    "        if str(data['iccid'][j]).lower() == \"nan\" or int(round(data['iccid'][j])) == -1:\n",
    "            continue\n",
    "        if int(json_data[i]['id']) == int(round(data['iccid'][j])):\n",
    "            print(\"Found: \", json_data[i]['id'], data['iccid'][j])\n",
    "            data['rank'][j] = json_data[i]['rank']\n",
    "            data['rating'][j] = json_data[i]['rating']\n",
    "            data['format'][j] = 'TEST'\n",
    "            data['icc_role'][j] = \"Bowler\""
   ]
  },
  {
   "cell_type": "code",
   "execution_count": 194,
   "metadata": {},
   "outputs": [],
   "source": [
    "data.to_csv('TEST_BOWLER.csv', index=False)"
   ]
  },
  {
   "cell_type": "code",
   "execution_count": 3,
   "metadata": {},
   "outputs": [],
   "source": [
    "d1 = pd.read_csv('TEST_BOWLER.csv')"
   ]
  },
  {
   "cell_type": "code",
   "execution_count": 6,
   "metadata": {},
   "outputs": [
    {
     "data": {
      "text/plain": [
       "'Arshdeep Singh'"
      ]
     },
     "execution_count": 6,
     "metadata": {},
     "output_type": "execute_result"
    }
   ],
   "source": [
    "d1['name'][0]"
   ]
  },
  {
   "cell_type": "code",
   "execution_count": null,
   "metadata": {},
   "outputs": [],
   "source": []
  }
 ],
 "metadata": {
  "kernelspec": {
   "display_name": "resume_parser_3.8.16",
   "language": "python",
   "name": "python3"
  },
  "language_info": {
   "codemirror_mode": {
    "name": "ipython",
    "version": 3
   },
   "file_extension": ".py",
   "mimetype": "text/x-python",
   "name": "python",
   "nbconvert_exporter": "python",
   "pygments_lexer": "ipython3",
   "version": "3.8.16"
  }
 },
 "nbformat": 4,
 "nbformat_minor": 2
}
