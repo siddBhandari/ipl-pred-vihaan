{
 "cells": [
  {
   "cell_type": "code",
   "execution_count": 4,
   "metadata": {},
   "outputs": [],
   "source": [
    "from bs4 import BeautifulSoup\n",
    "import requests\n",
    "import json"
   ]
  },
  {
   "cell_type": "code",
   "execution_count": 13,
   "metadata": {},
   "outputs": [],
   "source": [
    "# scraping images\n",
    "\n",
    "# t20\n",
    "t20_batting = \"https://www.icc-cricket.com/rankings/mens/player-rankings/t20i/batting\"\n",
    "t20_bowling = \"https://www.icc-cricket.com/rankings/mens/player-rankings/t20i/bowling\"\n",
    "t20_allrounder = \"https://www.icc-cricket.com/rankings/mens/player-rankings/t20i/all-rounder\"\n",
    "\n",
    "odi_batting = \"https://www.icc-cricket.com/rankings/mens/player-rankings/odi/batting\"\n",
    "odi_bowling = \"https://www.icc-cricket.com/rankings/mens/player-rankings/odi/bowling\"\n",
    "odi_allrounder = \"https://www.icc-cricket.com/rankings/mens/player-rankings/odi/all-rounder\"\n",
    "\n",
    "test_batting = \"https://www.icc-cricket.com/rankings/mens/player-rankings/test/batting\"\n",
    "test_bowling = \"https://www.icc-cricket.com/rankings/mens/player-rankings/test/bowling\"\n",
    "test_allrounder = \"https://www.icc-cricket.com/rankings/mens/player-rankings/test/all-rounder\"\n",
    "\n",
    "\n",
    "howzat_website_url = \"http://www.howstat.com/cricket/Statistics/Players/PlayerList.asp?Group=A\""
   ]
  },
  {
   "cell_type": "code",
   "execution_count": null,
   "metadata": {},
   "outputs": [],
   "source": []
  },
  {
   "cell_type": "code",
   "execution_count": 14,
   "metadata": {},
   "outputs": [],
   "source": [
    "website_html = requests.get(test_allrounder)\n",
    "soup = BeautifulSoup(website_html.content, 'html.parser')"
   ]
  },
  {
   "cell_type": "code",
   "execution_count": 15,
   "metadata": {},
   "outputs": [],
   "source": [
    "ranking_table = soup.find('table', class_=\"table rankings-table\")\n",
    "ranking_table_top = ranking_table.find('tr', class_=\"rankings-block__banner\")\n",
    "ranking_table_bottom = ranking_table.find_all('tr', class_=\"table-body\")"
   ]
  },
  {
   "cell_type": "code",
   "execution_count": 16,
   "metadata": {},
   "outputs": [
    {
     "name": "stdout",
     "output_type": "stream",
     "text": [
      "Akshar Patel\n"
     ]
    }
   ],
   "source": [
    "# collect stats\n",
    "player_stats = []\n",
    "rank = 1\n",
    "\n",
    "player = {}\n",
    "\n",
    "player['id'] = int(ranking_table_top.find('a').get('href').split('/')[-1])\n",
    "player['link'] = ranking_table_top.find('a').get('href')\n",
    "player['rank'] = rank\n",
    "player['name'] = ranking_table_top.find('div', class_=\"rankings-block__banner--name-large\").text.lower()\n",
    "player['rating'] = ranking_table_top.find('div', class_=\"rankings-block__banner--rating\").text\n",
    "player['country'] = ranking_table_top.find('span', class_=\"rankings-block__banner--nation\").text\n",
    "player_stats.append(player)\n",
    "\n",
    "\n",
    "for p in ranking_table_bottom:\n",
    "    rank += 1\n",
    "    player = {}\n",
    "    if p.find('a').get('href').split('/')[-1] != '':\n",
    "        player['id'] = int(p.find('a').get('href').split('/')[-1])\n",
    "    else:\n",
    "        player['id'] = -1\n",
    "        print(p.find('a').text)\n",
    "    player['link'] = p.find('a').get('href')\n",
    "    player['rank'] = rank\n",
    "    player['name'] = p.find('a').text.lower()\n",
    "    player['rating'] = p.find('td', class_=\"table-body__cell rating\").text\n",
    "    player['country'] = p.find('span', class_=\"table-body__logo-text\").text\n",
    "    player_stats.append(player)"
   ]
  },
  {
   "cell_type": "code",
   "execution_count": 17,
   "metadata": {},
   "outputs": [
    {
     "data": {
      "text/plain": [
       "20"
      ]
     },
     "execution_count": 17,
     "metadata": {},
     "output_type": "execute_result"
    }
   ],
   "source": [
    "len(player_stats)"
   ]
  },
  {
   "cell_type": "code",
   "execution_count": 18,
   "metadata": {},
   "outputs": [],
   "source": [
    "with open('./json/test_allrounder.json', 'w') as file:\n",
    "    file.write(json.dumps(player_stats))"
   ]
  },
  {
   "cell_type": "code",
   "execution_count": 19,
   "metadata": {},
   "outputs": [
    {
     "data": {
      "text/plain": [
       "[{'id': 9,\n",
       "  'link': '/rankings/mens/player-rankings/9',\n",
       "  'rank': 1,\n",
       "  'name': 'ravindra jadeja',\n",
       "  'rating': '455',\n",
       "  'country': ''},\n",
       " {'id': 8,\n",
       "  'link': '/rankings/mens/player-rankings/8',\n",
       "  'rank': 2,\n",
       "  'name': 'ravichandran ashwin',\n",
       "  'rating': '370',\n",
       "  'country': 'IND'},\n",
       " {'id': 201,\n",
       "  'link': '/rankings/mens/player-rankings/201',\n",
       "  'rank': 3,\n",
       "  'name': 'shakib al hasan',\n",
       "  'rating': '332',\n",
       "  'country': 'BAN'},\n",
       " {'id': 1154,\n",
       "  'link': '/rankings/mens/player-rankings/1154',\n",
       "  'rank': 4,\n",
       "  'name': 'ben stokes',\n",
       "  'rating': '307',\n",
       "  'country': 'ENG'},\n",
       " {'id': -1,\n",
       "  'link': '/rankings/mens/player-rankings/',\n",
       "  'rank': 5,\n",
       "  'name': 'akshar patel',\n",
       "  'rating': '298',\n",
       "  'country': 'IND'},\n",
       " {'id': 887,\n",
       "  'link': '/rankings/mens/player-rankings/887',\n",
       "  'rank': 6,\n",
       "  'name': 'joe root',\n",
       "  'rating': '286',\n",
       "  'country': 'ENG'},\n",
       " {'id': 1075,\n",
       "  'link': '/rankings/mens/player-rankings/1075',\n",
       "  'rank': 7,\n",
       "  'name': 'jason holder',\n",
       "  'rating': '280',\n",
       "  'country': 'WI'},\n",
       " {'id': 490,\n",
       "  'link': '/rankings/mens/player-rankings/490',\n",
       "  'rank': 8,\n",
       "  'name': 'mitchell starc',\n",
       "  'rating': '241',\n",
       "  'country': 'AUS'},\n",
       " {'id': 1902,\n",
       "  'link': '/rankings/mens/player-rankings/1902',\n",
       "  'rank': 9,\n",
       "  'name': 'kyle mayers',\n",
       "  'rating': '240',\n",
       "  'country': 'WI'},\n",
       " {'id': 967,\n",
       "  'link': '/rankings/mens/player-rankings/967',\n",
       "  'rank': 10,\n",
       "  'name': 'chris woakes',\n",
       "  'rating': '229',\n",
       "  'country': 'ENG'},\n",
       " {'id': 488,\n",
       "  'link': '/rankings/mens/player-rankings/488',\n",
       "  'rank': 11,\n",
       "  'name': 'pat cummins',\n",
       "  'rating': '213',\n",
       "  'country': 'AUS'},\n",
       " {'id': 17068,\n",
       "  'link': '/rankings/mens/player-rankings/17068',\n",
       "  'rank': 12,\n",
       "  'name': 'marco jansen',\n",
       "  'rating': '199',\n",
       "  'country': 'SA'},\n",
       " {'id': 1616,\n",
       "  'link': '/rankings/mens/player-rankings/1616',\n",
       "  'rank': 13,\n",
       "  'name': 'kyle jamieson',\n",
       "  'rating': '196',\n",
       "  'country': 'NZ'},\n",
       " {'id': 1664,\n",
       "  'link': '/rankings/mens/player-rankings/1664',\n",
       "  'rank': 14,\n",
       "  'name': 'kagiso rabada',\n",
       "  'rating': '184',\n",
       "  'country': 'SA'},\n",
       " {'id': 1597,\n",
       "  'link': '/rankings/mens/player-rankings/1597',\n",
       "  'rank': 15,\n",
       "  'name': 'mehedi hasan',\n",
       "  'rating': '184',\n",
       "  'country': 'BAN'},\n",
       " {'id': 307,\n",
       "  'link': '/rankings/mens/player-rankings/307',\n",
       "  'rank': 16,\n",
       "  'name': 'tim southee',\n",
       "  'rating': '182',\n",
       "  'country': 'NZ'},\n",
       " {'id': 1894,\n",
       "  'link': '/rankings/mens/player-rankings/1894',\n",
       "  'rank': 17,\n",
       "  'name': 'keshav maharaj',\n",
       "  'rating': '176',\n",
       "  'country': 'SA'},\n",
       " {'id': 192,\n",
       "  'link': '/rankings/mens/player-rankings/192',\n",
       "  'rank': 18,\n",
       "  'name': 'stuart broad',\n",
       "  'rating': '172',\n",
       "  'country': 'ENG'},\n",
       " {'id': 4093,\n",
       "  'link': '/rankings/mens/player-rankings/4093',\n",
       "  'rank': 19,\n",
       "  'name': 'cameron green',\n",
       "  'rating': '170',\n",
       "  'country': 'AUS'},\n",
       " {'id': 797,\n",
       "  'link': '/rankings/mens/player-rankings/797',\n",
       "  'rank': 20,\n",
       "  'name': 'nathan lyon',\n",
       "  'rating': '161',\n",
       "  'country': 'AUS'}]"
      ]
     },
     "execution_count": 19,
     "metadata": {},
     "output_type": "execute_result"
    }
   ],
   "source": [
    "player_stats"
   ]
  },
  {
   "cell_type": "code",
   "execution_count": null,
   "metadata": {},
   "outputs": [],
   "source": []
  },
  {
   "cell_type": "code",
   "execution_count": null,
   "metadata": {},
   "outputs": [],
   "source": []
  }
 ],
 "metadata": {
  "kernelspec": {
   "display_name": "cricket_yug",
   "language": "python",
   "name": "python3"
  },
  "language_info": {
   "codemirror_mode": {
    "name": "ipython",
    "version": 3
   },
   "file_extension": ".py",
   "mimetype": "text/x-python",
   "name": "python",
   "nbconvert_exporter": "python",
   "pygments_lexer": "ipython3",
   "version": "3.9.17"
  },
  "orig_nbformat": 4,
  "vscode": {
   "interpreter": {
    "hash": "8556024ef0b36b85a2fc4540446c3cf70d88831291b8cc3b40279a7ce518593f"
   }
  }
 },
 "nbformat": 4,
 "nbformat_minor": 2
}
