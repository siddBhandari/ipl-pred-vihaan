{
 "cells": [
  {
   "cell_type": "code",
   "execution_count": 55,
   "metadata": {},
   "outputs": [],
   "source": [
    "import json\n",
    "from fuzzywuzzy import fuzz"
   ]
  },
  {
   "cell_type": "code",
   "execution_count": 81,
   "metadata": {},
   "outputs": [],
   "source": [
    "icc_ranking = {\n",
    "    \"t20_batting\": [],\n",
    "    \"t20_bowling\": [],\n",
    "    \"odi_batting\": [],\n",
    "    \"odi_bowling\": [],\n",
    "    \"test_batting\": [],\n",
    "    \"test_bowling\": [],\n",
    "    \"t20_allrounder\": [],\n",
    "    \"odi_allrounder\": [],\n",
    "    \"test_allrounder\": []\n",
    "}\n",
    "\n",
    "country_mapping = {\n",
    "    \"afghanistan\": \"AFG\",\n",
    "    \"australia\": \"AUS\",\n",
    "    \"bangladesh\": \"BAN\",\n",
    "    \"england\": \"ENG\",\n",
    "    \"india\": \"IND\",\n",
    "    \"ireland\": \"IRE\",\n",
    "    \"new zealand\": \"NZ\",\n",
    "    \"pakistan\": \"PAK\",\n",
    "    \"south africa\": \"SA\",\n",
    "    \"sri lanka\": \"SL\",\n",
    "    \"west indies\": \"WI\",\n",
    "    \"zimbabwe\": \"ZIM\",\n",
    "    \"netherlands\": \"NED\"\n",
    "}\n"
   ]
  },
  {
   "cell_type": "code",
   "execution_count": 102,
   "metadata": {},
   "outputs": [],
   "source": [
    "t20_batting = open(\"./icc_json/t20_batting.json\", \"r\")\n",
    "t20_bowling = open(\"./icc_json/t20_bowling.json\", \"r\")\n",
    "odi_batting = open(\"./icc_json/odi_batting.json\", \"r\")\n",
    "odi_bowling = open(\"./icc_json/odi_bowling.json\", \"r\")\n",
    "test_batting = open(\"./icc_json/test_batting.json\", \"r\")\n",
    "test_bowling = open(\"./icc_json/test_bowling.json\", \"r\")\n",
    "\n",
    "all_stats = open(\"./howstat_json/all_stats.json\", \"r\")"
   ]
  },
  {
   "cell_type": "code",
   "execution_count": 103,
   "metadata": {},
   "outputs": [],
   "source": [
    "ALL_STAT = json.loads(all_stats.read())"
   ]
  },
  {
   "cell_type": "code",
   "execution_count": 104,
   "metadata": {},
   "outputs": [],
   "source": [
    "NOT_FOUND = []"
   ]
  },
  {
   "cell_type": "code",
   "execution_count": 125,
   "metadata": {},
   "outputs": [],
   "source": [
    "NOT_FOUND1 = []"
   ]
  },
  {
   "cell_type": "code",
   "execution_count": 115,
   "metadata": {},
   "outputs": [],
   "source": [
    "data = json.loads(test_bowling.read())"
   ]
  },
  {
   "cell_type": "code",
   "execution_count": 126,
   "metadata": {},
   "outputs": [
    {
     "name": "stdout",
     "output_type": "stream",
     "text": [
      "Not Found muhammad waseem UAE\n",
      "Not Found richard berrington SCO\n",
      "Not Found george munsey SCO\n",
      "Not Found paul stirling IRE\n",
      "Not Found andrew balbirnie IRE\n",
      "Not Found gerhard erasmus NAM\n",
      "Not Found tony ura PNG\n",
      "Not Found wesley madhevere ZIM\n",
      "Not Found vriitya aravind UAE\n",
      "Not Found curtis campher IRE\n",
      "Not Found craig williams NAM\n",
      "Not Found sikandar raza ZIM\n",
      "Not Found sean williams ZIM\n",
      "Not Found j.j. smit NAM\n",
      "Not Found zeeshan maqsood OMA\n",
      "Not Found aaron johnson CAN\n",
      "Not Found craig ervine ZIM\n",
      "Not Found stephan baard NAM\n",
      "Not Found ryan burl ZIM\n",
      "Not Found jatinder singh OMA\n",
      "Not Found matthew cross SCO\n",
      "Not Found mark watt SCO\n",
      "Not Found richard ngarava ZIM\n",
      "Not Found bernard scholtz NAM\n",
      "Not Found tendai chatara ZIM\n",
      "Not Found david wiese NAM\n",
      "Not Found luke bichard GSY\n",
      "Not Found joshua little IRE\n",
      "Not Found zahoor khan UAE\n",
      "Not Found mark adair IRE\n",
      "Not Found jan frylinck NAM\n",
      "Not Found wellington masakadza ZIM\n",
      "Not Found bilal khan OMA\n",
      "Not Found safyaan sharif SCO\n",
      "Not Found j.j. smit NAM\n",
      "Not Found blessing muzarabani ZIM\n",
      "Not Found junaid siddique UAE\n",
      "Not Found sikandar raza ZIM\n",
      "Not Found ruben trumpelmann NAM\n",
      "Not Found barry mccarthy IRE\n",
      "Not Found sean williams ZIM\n",
      "Not Found josh davey SCO\n",
      "Not Found alasdair evans SCO\n",
      "Not Found luke jongwe ZIM\n",
      "Not Found harry tector IRE\n",
      "Not Found paul stirling IRE\n",
      "Not Found sikandar raza ZIM\n",
      "Not Found gerhard erasmus NAM\n",
      "Not Found sean williams ZIM\n",
      "Not Found assad vala PNG\n",
      "Not Found george munsey SCO\n",
      "Not Found andrew balbirnie IRE\n",
      "Not Found vriitya aravind UAE\n",
      "Not Found gajanand singh USA\n",
      "Not Found aaron jones USA\n",
      "Not Found kyle coetzer SCO\n",
      "Not Found aqib ilyas OMA\n",
      "Not Found muhammad waseem UAE\n",
      "Not Found richard berrington SCO\n",
      "Not Found monank patel USA\n",
      "Not Found zeeshan maqsood OMA\n",
      "Not Found michael leask SCO\n",
      "Not Found aasif sheikh NEP\n",
      "Not Found asif khan UAE\n",
      "Not Found ayaan khan OMA\n",
      "Not Found kashyap prajapati OMA\n",
      "Not Found craig ervine ZIM\n",
      "Not Found steven taylor USA\n",
      "Not Found r.k. paudel NEP\n",
      "Not Found george dockrell IRE\n",
      "Not Found michael van lingen NAM\n",
      "Not Found jatinder singh OMA\n",
      "Not Found brandon mcmullen SCO\n",
      "Not Found curtis campher IRE\n",
      "Not Found ryan burl ZIM\n",
      "Not Found kushal bhurtel NEP\n",
      "Not Found tony ura PNG\n",
      "Not Found mark watt SCO\n",
      "Not Found bernard scholtz NAM\n",
      "Not Found saurabh netravalkar USA\n",
      "Not Found andy mcbrine IRE\n",
      "Not Found sandeep lamichhane NEP\n",
      "Not Found mark adair IRE\n",
      "Not Found richard ngarava ZIM\n",
      "Not Found christopher sole SCO\n",
      "Not Found ruben trumpelmann NAM\n",
      "Not Found aayan afzal khan UAE\n",
      "Not Found bilal khan OMA\n",
      "Not Found craig young IRE\n",
      "Not Found zeeshan maqsood OMA\n",
      "Not Found blessing muzarabani ZIM\n",
      "Not Found kaleemullah OMA\n",
      "Not Found nosthush kenjige USA\n",
      "Not Found safyaan sharif SCO\n",
      "Not Found rohan mustafa UAE\n",
      "Not Found sikandar raza ZIM\n",
      "Not Found joshua little IRE\n",
      "Not Found assad vala PNG\n",
      "Not Found chad soper PNG\n",
      "Not Found dipendra airee NEP\n",
      "Not Found zahoor khan UAE\n",
      "Not Found junaid siddique UAE\n",
      "Not Found michael leask SCO\n",
      "Not Found tangeni lungameni NAM\n",
      "Not Found karan kc NEP\n",
      "Not Found brandon mcmullen SCO\n",
      "Not Found simi singh IRE\n",
      "Not Found nisarg patel USA\n",
      "Not Found sompal kami NEP\n",
      "Not Found lalit rajbanshi NEP\n",
      "Not Found sikandar raza ZIM\n",
      "Not Found assad vala PNG\n",
      "Not Found zeeshan maqsood OMA\n",
      "Not Found michael leask SCO\n",
      "Not Found sean williams ZIM\n",
      "Not Found mark watt SCO\n",
      "Not Found brandon mcmullen SCO\n",
      "Not Found victor nyauchi ZIM\n",
      "Not Found donald tiripano ZIM\n",
      "Not Found brandon mavuta ZIM\n",
      "Not Found mark adair IRE\n",
      "Not Found andy mcbrine IRE\n",
      "Not Found wellington masakadza ZIM\n"
     ]
    }
   ],
   "source": [
    "def fuzzy_match(string1, string2):\n",
    "    similarity_ratio = fuzz.ratio(string1, string2)\n",
    "    return similarity_ratio\n",
    "\n",
    "\n",
    "for p in range(0, len(NOT_FOUND)):\n",
    "    icc_name = NOT_FOUND[p]['name']\n",
    "    found = False\n",
    "    for q in range(0, len(ALL_STAT)):\n",
    "        \n",
    "        if country_mapping.get(ALL_STAT[q]['country'].lower(), None) == NOT_FOUND[p]['country']:\n",
    "            if ALL_STAT[q].get('iccId', False) and fuzzy_match(icc_name.lower(), ALL_STAT[q]['name'].lower()) >= 30:\n",
    "                ALL_STAT[q]['name'] = icc_name\n",
    "                ALL_STAT[q]['iccId'] = NOT_FOUND[p]['id']\n",
    "                ALL_STAT[q]['link'] = NOT_FOUND[p]['link']\n",
    "            \n",
    "                found = True\n",
    "                break\n",
    "\n",
    "\n",
    "    if not found:\n",
    "        print(\"Not Found\", icc_name, NOT_FOUND[p]['country'])\n",
    "        NOT_FOUND1.append(NOT_FOUND[p])"
   ]
  },
  {
   "cell_type": "code",
   "execution_count": 127,
   "metadata": {},
   "outputs": [
    {
     "data": {
      "text/plain": [
       "123"
      ]
     },
     "execution_count": 127,
     "metadata": {},
     "output_type": "execute_result"
    }
   ],
   "source": [
    "len(NOT_FOUND1)"
   ]
  },
  {
   "cell_type": "code",
   "execution_count": null,
   "metadata": {},
   "outputs": [],
   "source": [
    "len(NOT_FOUND)"
   ]
  },
  {
   "cell_type": "code",
   "execution_count": 119,
   "metadata": {},
   "outputs": [],
   "source": [
    "with open(\"./howstat_json/icc_howstat2.json\", 'w') as json_file:\n",
    "    json.dump(ALL_STAT, json_file)"
   ]
  },
  {
   "cell_type": "code",
   "execution_count": null,
   "metadata": {},
   "outputs": [],
   "source": []
  }
 ],
 "metadata": {
  "kernelspec": {
   "display_name": "resume_parser_3.8.16",
   "language": "python",
   "name": "python3"
  },
  "language_info": {
   "codemirror_mode": {
    "name": "ipython",
    "version": 3
   },
   "file_extension": ".py",
   "mimetype": "text/x-python",
   "name": "python",
   "nbconvert_exporter": "python",
   "pygments_lexer": "ipython3",
   "version": "3.9.17"
  },
  "orig_nbformat": 4,
  "vscode": {
   "interpreter": {
    "hash": "0f1230d76e4e4c480a3d0be76245f8daf28021e0c2a980a73fb7f2b6114931c1"
   }
  }
 },
 "nbformat": 4,
 "nbformat_minor": 2
}
