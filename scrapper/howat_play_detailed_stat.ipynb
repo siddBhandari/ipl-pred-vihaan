{
 "cells": [
  {
   "cell_type": "code",
   "execution_count": 315,
   "metadata": {},
   "outputs": [],
   "source": [
    "from bs4 import BeautifulSoup\n",
    "import requests\n",
    "import json"
   ]
  },
  {
   "cell_type": "code",
   "execution_count": 316,
   "metadata": {},
   "outputs": [],
   "source": [
    "player_summary_url = \"http://www.howstat.com/cricket/Statistics/Players/PlayerOverviewSummary.asp?PlayerID=3600\"\n",
    "player_base_odi_url = \"http://www.howstat.com/cricket/Statistics/Players/PlayerOverview_ODI.asp?PlayerID=\"\n",
    "player_base_t20_url = \"http://www.howstat.com/cricket/Statistics/Players/PlayerOverview_T20.asp?PlayerID=\"\n",
    "player_base_test_url = \"http://www.howstat.com/cricket/Statistics/Players/PlayerOverview.asp?PlayerID=\"\n",
    "player_base_ipl_url = \"http://www.howstat.com/cricket/Statistics/IPL/PlayerOverview.asp?PlayerID=\"\n",
    "\n",
    "URL = [player_base_odi_url, player_base_t20_url, player_base_test_url]"
   ]
  },
  {
   "cell_type": "code",
   "execution_count": 275,
   "metadata": {},
   "outputs": [],
   "source": [
    "player_id = '3600'"
   ]
  },
  {
   "cell_type": "code",
   "execution_count": 303,
   "metadata": {},
   "outputs": [],
   "source": [
    "website_html = requests.get(player_base_t20_url + player_id)\n",
    "soup = BeautifulSoup(website_html.content, 'html.parser')"
   ]
  },
  {
   "cell_type": "code",
   "execution_count": 230,
   "metadata": {},
   "outputs": [],
   "source": [
    "match_type_mapping = {\n",
    "    \"BorderedBoxTest\": \"test\",\n",
    "    \"BorderedBoxODI\": \"odi\",\n",
    "    \"BorderedBoxT20\": \"t20\",\n",
    "    \"BorderedBoxIPL\": \"ipl\",\n",
    "    \"BorderedBoxOverall\": \"overall\"\n",
    "}"
   ]
  },
  {
   "cell_type": "code",
   "execution_count": 336,
   "metadata": {},
   "outputs": [],
   "source": [
    "# Sample Json of Player Summary\n",
    "def odi_t20_stat(soup):\n",
    "    match_index_mapping ={\n",
    "        \"batting\": {\n",
    "            \"innings\": \"Innings:\",\n",
    "            \"notOuts\": \"Not Outs:\",\n",
    "            \"agrregate\": \"Aggregate:\",\n",
    "            \"highestScore\": \"Highest Score:\",\n",
    "            \"average\": \"Average:\",\n",
    "            \"50s\": \"50s:\",\n",
    "            \"100s\": \"100s:\",\n",
    "            \"ducks\": \"Ducks:\",\n",
    "            \"4s\": \"4s:\",\n",
    "            \"6s\": \"6s:\",\n",
    "            \"scoringRate\": \"Scoring Rate\",\n",
    "            \"BallsFaced\": \"Balls Faced:\"\n",
    "            },\n",
    "        \"bowling\": {\n",
    "            \"ballDeliveries\": \"Balls:\",\n",
    "            \"runsConceded\": \"Runs Conceded:\",\n",
    "            \"wicktes\": \"Wickets:\",\n",
    "            \"bowlingAverage\": \"Average:\",\n",
    "            \"5Wickets\": \"5 Wickets in Innings:\",\n",
    "            \"bestBowling\": \"Best:\",\n",
    "            \"bowlingEconomyRate\": \"Economy Rate:\",\n",
    "            \"bowlingStrikeRate\": \"Strike Rate:\",\n",
    "        },\n",
    "        \"captaincy\": {\n",
    "            \"Matches/Won/Lost:\": \"Matches/Won/Lost:\"\n",
    "            }\n",
    "    }\n",
    "\n",
    "    stats = {\n",
    "        \"batting\": {},\n",
    "        \"bowling\": {},\n",
    "        \"captaincy\": {}\n",
    "    }\n",
    "\n",
    "    for key1 in match_index_mapping.keys():\n",
    "        for key2 in match_index_mapping[key1].keys():\n",
    "            try:\n",
    "                stats[key1][key2] = soup.find('span', string=match_index_mapping[key1][key2]).find_next('td').text.strip()\n",
    "            except AttributeError:\n",
    "                stats[key1][key2] = None\n",
    "\n",
    "    return stats\n"
   ]
  },
  {
   "cell_type": "code",
   "execution_count": 333,
   "metadata": {},
   "outputs": [],
   "source": [
    "\n",
    "def test_stat(soup):\n",
    "    match_index_mapping ={\n",
    "        \"batting\": {\n",
    "            \"innings\": \"Innings:\",\n",
    "            \"notOuts\": \"Not Outs:\",\n",
    "            \"agrregate\": \"Aggregate:\",\n",
    "            \"highestScore\": \"Highest Score:\",\n",
    "            \"average\": \"Average:\",\n",
    "            \"50s\": \"50s:\",\n",
    "            \"100s\": \"100s:\",\n",
    "            \"ducks\": \"Ducks:\",\n",
    "            \"4s\": \"4s:\",\n",
    "            \"6s\": \"6s:\",\n",
    "            \"scoringRate\": \"Scoring Rate\",\n",
    "            \"BallsFaced\": \"Balls Faced:\"\n",
    "            },\n",
    "        \"bowling\": {\n",
    "            \"ballDeliveries\": \"Balls:\",\n",
    "            \"runsConceded\": \"Runs Conceded:\",\n",
    "            \"wicktes\": \"Wickets:\",\n",
    "            \"bowlingAverage\": \"Average:\",\n",
    "            \"5Wickets\": \"5 Wickets in Innings:\",\n",
    "            \"bestBowling\": \"Best - Match:\",\n",
    "            \"bowlingEconomyRate\": \"Economy Rate:\",\n",
    "            \"bowlingStrikeRate\": \"Strike Rate:\",\n",
    "        },\n",
    "        \"captaincy\": {\n",
    "            \"Matches/Won/Lost:\": \"Matches/Won/Lost:\"\n",
    "            }\n",
    "    }\n",
    "\n",
    "    stats = {\n",
    "        \"batting\": {},\n",
    "        \"bowling\": {},\n",
    "        \"captaincy\": {}\n",
    "    }\n",
    "\n",
    "    for key1 in match_index_mapping.keys():\n",
    "        for key2 in match_index_mapping[key1].keys():\n",
    "            try:\n",
    "                stats[key1][key2] = soup.find('span', string=match_index_mapping[key1][key2]).find_next('td').text.strip()\n",
    "            except AttributeError:\n",
    "                stats[key1][key2] = None\n",
    "\n",
    "    return stats\n"
   ]
  },
  {
   "cell_type": "code",
   "execution_count": 337,
   "metadata": {},
   "outputs": [
    {
     "name": "stdout",
     "output_type": "stream",
     "text": [
      "6740\n"
     ]
    }
   ],
   "source": [
    "with open(\"./howstat_json/howstat_players.json\", \"r\") as outfile:\n",
    "    player_json_data = json.loads(outfile.read())\n",
    "    print(len(player_json_data))\n"
   ]
  },
  {
   "cell_type": "code",
   "execution_count": 343,
   "metadata": {},
   "outputs": [
    {
     "name": "stdout",
     "output_type": "stream",
     "text": [
      "0 6329\n",
      "1 2602\n",
      "2 6924\n",
      "3 4480\n",
      "4 6954\n",
      "5 1653\n",
      "ERROR ERROR ERROR ERROR ERROR ERROR 869\n",
      "6 3916\n",
      "7 5987\n",
      "8 2603\n",
      "9 6305\n"
     ]
    },
    {
     "ename": "KeyboardInterrupt",
     "evalue": "",
     "output_type": "error",
     "traceback": [
      "\u001b[0;31m---------------------------------------------------------------------------\u001b[0m",
      "\u001b[0;31mKeyboardInterrupt\u001b[0m                         Traceback (most recent call last)",
      "Cell \u001b[0;32mIn[343], line 44\u001b[0m\n\u001b[1;32m     41\u001b[0m             \u001b[39mcontinue\u001b[39;00m\n\u001b[1;32m     43\u001b[0m \u001b[39mif\u001b[39;00m player[\u001b[39m'\u001b[39m\u001b[39mt20_matches\u001b[39m\u001b[39m'\u001b[39m] \u001b[39m>\u001b[39m \u001b[39m0\u001b[39m:\n\u001b[0;32m---> 44\u001b[0m     website_html \u001b[39m=\u001b[39m requests\u001b[39m.\u001b[39;49mget(player_base_t20_url \u001b[39m+\u001b[39;49m player_id)\n\u001b[1;32m     45\u001b[0m     website_soup \u001b[39m=\u001b[39m BeautifulSoup(website_html\u001b[39m.\u001b[39mcontent, \u001b[39m'\u001b[39m\u001b[39mhtml.parser\u001b[39m\u001b[39m'\u001b[39m)\n\u001b[1;32m     46\u001b[0m     PLAYER_STAT[\u001b[39m'\u001b[39m\u001b[39mt20\u001b[39m\u001b[39m'\u001b[39m] \u001b[39m=\u001b[39m odi_t20_stat(website_soup)\n",
      "File \u001b[0;32m~/.pyenv/versions/3.9.17/envs/cricket_yug_scrapper/lib/python3.9/site-packages/requests/api.py:73\u001b[0m, in \u001b[0;36mget\u001b[0;34m(url, params, **kwargs)\u001b[0m\n\u001b[1;32m     62\u001b[0m \u001b[39mdef\u001b[39;00m \u001b[39mget\u001b[39m(url, params\u001b[39m=\u001b[39m\u001b[39mNone\u001b[39;00m, \u001b[39m*\u001b[39m\u001b[39m*\u001b[39mkwargs):\n\u001b[1;32m     63\u001b[0m \u001b[39m    \u001b[39m\u001b[39mr\u001b[39m\u001b[39m\"\"\"Sends a GET request.\u001b[39;00m\n\u001b[1;32m     64\u001b[0m \n\u001b[1;32m     65\u001b[0m \u001b[39m    :param url: URL for the new :class:`Request` object.\u001b[39;00m\n\u001b[0;32m   (...)\u001b[0m\n\u001b[1;32m     70\u001b[0m \u001b[39m    :rtype: requests.Response\u001b[39;00m\n\u001b[1;32m     71\u001b[0m \u001b[39m    \"\"\"\u001b[39;00m\n\u001b[0;32m---> 73\u001b[0m     \u001b[39mreturn\u001b[39;00m request(\u001b[39m\"\u001b[39;49m\u001b[39mget\u001b[39;49m\u001b[39m\"\u001b[39;49m, url, params\u001b[39m=\u001b[39;49mparams, \u001b[39m*\u001b[39;49m\u001b[39m*\u001b[39;49mkwargs)\n",
      "File \u001b[0;32m~/.pyenv/versions/3.9.17/envs/cricket_yug_scrapper/lib/python3.9/site-packages/requests/api.py:59\u001b[0m, in \u001b[0;36mrequest\u001b[0;34m(method, url, **kwargs)\u001b[0m\n\u001b[1;32m     55\u001b[0m \u001b[39m# By using the 'with' statement we are sure the session is closed, thus we\u001b[39;00m\n\u001b[1;32m     56\u001b[0m \u001b[39m# avoid leaving sockets open which can trigger a ResourceWarning in some\u001b[39;00m\n\u001b[1;32m     57\u001b[0m \u001b[39m# cases, and look like a memory leak in others.\u001b[39;00m\n\u001b[1;32m     58\u001b[0m \u001b[39mwith\u001b[39;00m sessions\u001b[39m.\u001b[39mSession() \u001b[39mas\u001b[39;00m session:\n\u001b[0;32m---> 59\u001b[0m     \u001b[39mreturn\u001b[39;00m session\u001b[39m.\u001b[39;49mrequest(method\u001b[39m=\u001b[39;49mmethod, url\u001b[39m=\u001b[39;49murl, \u001b[39m*\u001b[39;49m\u001b[39m*\u001b[39;49mkwargs)\n",
      "File \u001b[0;32m~/.pyenv/versions/3.9.17/envs/cricket_yug_scrapper/lib/python3.9/site-packages/requests/sessions.py:589\u001b[0m, in \u001b[0;36mSession.request\u001b[0;34m(self, method, url, params, data, headers, cookies, files, auth, timeout, allow_redirects, proxies, hooks, stream, verify, cert, json)\u001b[0m\n\u001b[1;32m    584\u001b[0m send_kwargs \u001b[39m=\u001b[39m {\n\u001b[1;32m    585\u001b[0m     \u001b[39m\"\u001b[39m\u001b[39mtimeout\u001b[39m\u001b[39m\"\u001b[39m: timeout,\n\u001b[1;32m    586\u001b[0m     \u001b[39m\"\u001b[39m\u001b[39mallow_redirects\u001b[39m\u001b[39m\"\u001b[39m: allow_redirects,\n\u001b[1;32m    587\u001b[0m }\n\u001b[1;32m    588\u001b[0m send_kwargs\u001b[39m.\u001b[39mupdate(settings)\n\u001b[0;32m--> 589\u001b[0m resp \u001b[39m=\u001b[39m \u001b[39mself\u001b[39;49m\u001b[39m.\u001b[39;49msend(prep, \u001b[39m*\u001b[39;49m\u001b[39m*\u001b[39;49msend_kwargs)\n\u001b[1;32m    591\u001b[0m \u001b[39mreturn\u001b[39;00m resp\n",
      "File \u001b[0;32m~/.pyenv/versions/3.9.17/envs/cricket_yug_scrapper/lib/python3.9/site-packages/requests/sessions.py:747\u001b[0m, in \u001b[0;36mSession.send\u001b[0;34m(self, request, **kwargs)\u001b[0m\n\u001b[1;32m    744\u001b[0m         \u001b[39mpass\u001b[39;00m\n\u001b[1;32m    746\u001b[0m \u001b[39mif\u001b[39;00m \u001b[39mnot\u001b[39;00m stream:\n\u001b[0;32m--> 747\u001b[0m     r\u001b[39m.\u001b[39;49mcontent\n\u001b[1;32m    749\u001b[0m \u001b[39mreturn\u001b[39;00m r\n",
      "File \u001b[0;32m~/.pyenv/versions/3.9.17/envs/cricket_yug_scrapper/lib/python3.9/site-packages/requests/models.py:899\u001b[0m, in \u001b[0;36mResponse.content\u001b[0;34m(self)\u001b[0m\n\u001b[1;32m    897\u001b[0m         \u001b[39mself\u001b[39m\u001b[39m.\u001b[39m_content \u001b[39m=\u001b[39m \u001b[39mNone\u001b[39;00m\n\u001b[1;32m    898\u001b[0m     \u001b[39melse\u001b[39;00m:\n\u001b[0;32m--> 899\u001b[0m         \u001b[39mself\u001b[39m\u001b[39m.\u001b[39m_content \u001b[39m=\u001b[39m \u001b[39mb\u001b[39;49m\u001b[39m\"\u001b[39;49m\u001b[39m\"\u001b[39;49m\u001b[39m.\u001b[39;49mjoin(\u001b[39mself\u001b[39;49m\u001b[39m.\u001b[39;49miter_content(CONTENT_CHUNK_SIZE)) \u001b[39mor\u001b[39;00m \u001b[39mb\u001b[39m\u001b[39m\"\u001b[39m\u001b[39m\"\u001b[39m\n\u001b[1;32m    901\u001b[0m \u001b[39mself\u001b[39m\u001b[39m.\u001b[39m_content_consumed \u001b[39m=\u001b[39m \u001b[39mTrue\u001b[39;00m\n\u001b[1;32m    902\u001b[0m \u001b[39m# don't need to release the connection; that's been handled by urllib3\u001b[39;00m\n\u001b[1;32m    903\u001b[0m \u001b[39m# since we exhausted the data.\u001b[39;00m\n",
      "File \u001b[0;32m~/.pyenv/versions/3.9.17/envs/cricket_yug_scrapper/lib/python3.9/site-packages/requests/models.py:816\u001b[0m, in \u001b[0;36mResponse.iter_content.<locals>.generate\u001b[0;34m()\u001b[0m\n\u001b[1;32m    814\u001b[0m \u001b[39mif\u001b[39;00m \u001b[39mhasattr\u001b[39m(\u001b[39mself\u001b[39m\u001b[39m.\u001b[39mraw, \u001b[39m\"\u001b[39m\u001b[39mstream\u001b[39m\u001b[39m\"\u001b[39m):\n\u001b[1;32m    815\u001b[0m     \u001b[39mtry\u001b[39;00m:\n\u001b[0;32m--> 816\u001b[0m         \u001b[39myield from\u001b[39;00m \u001b[39mself\u001b[39m\u001b[39m.\u001b[39mraw\u001b[39m.\u001b[39mstream(chunk_size, decode_content\u001b[39m=\u001b[39m\u001b[39mTrue\u001b[39;00m)\n\u001b[1;32m    817\u001b[0m     \u001b[39mexcept\u001b[39;00m ProtocolError \u001b[39mas\u001b[39;00m e:\n\u001b[1;32m    818\u001b[0m         \u001b[39mraise\u001b[39;00m ChunkedEncodingError(e)\n",
      "File \u001b[0;32m~/.pyenv/versions/3.9.17/envs/cricket_yug_scrapper/lib/python3.9/site-packages/urllib3/response.py:936\u001b[0m, in \u001b[0;36mHTTPResponse.stream\u001b[0;34m(self, amt, decode_content)\u001b[0m\n\u001b[1;32m    934\u001b[0m \u001b[39melse\u001b[39;00m:\n\u001b[1;32m    935\u001b[0m     \u001b[39mwhile\u001b[39;00m \u001b[39mnot\u001b[39;00m is_fp_closed(\u001b[39mself\u001b[39m\u001b[39m.\u001b[39m_fp) \u001b[39mor\u001b[39;00m \u001b[39mlen\u001b[39m(\u001b[39mself\u001b[39m\u001b[39m.\u001b[39m_decoded_buffer) \u001b[39m>\u001b[39m \u001b[39m0\u001b[39m:\n\u001b[0;32m--> 936\u001b[0m         data \u001b[39m=\u001b[39m \u001b[39mself\u001b[39;49m\u001b[39m.\u001b[39;49mread(amt\u001b[39m=\u001b[39;49mamt, decode_content\u001b[39m=\u001b[39;49mdecode_content)\n\u001b[1;32m    938\u001b[0m         \u001b[39mif\u001b[39;00m data:\n\u001b[1;32m    939\u001b[0m             \u001b[39myield\u001b[39;00m data\n",
      "File \u001b[0;32m~/.pyenv/versions/3.9.17/envs/cricket_yug_scrapper/lib/python3.9/site-packages/urllib3/response.py:879\u001b[0m, in \u001b[0;36mHTTPResponse.read\u001b[0;34m(self, amt, decode_content, cache_content)\u001b[0m\n\u001b[1;32m    876\u001b[0m     \u001b[39mif\u001b[39;00m \u001b[39mlen\u001b[39m(\u001b[39mself\u001b[39m\u001b[39m.\u001b[39m_decoded_buffer) \u001b[39m>\u001b[39m\u001b[39m=\u001b[39m amt:\n\u001b[1;32m    877\u001b[0m         \u001b[39mreturn\u001b[39;00m \u001b[39mself\u001b[39m\u001b[39m.\u001b[39m_decoded_buffer\u001b[39m.\u001b[39mget(amt)\n\u001b[0;32m--> 879\u001b[0m data \u001b[39m=\u001b[39m \u001b[39mself\u001b[39;49m\u001b[39m.\u001b[39;49m_raw_read(amt)\n\u001b[1;32m    881\u001b[0m flush_decoder \u001b[39m=\u001b[39m amt \u001b[39mis\u001b[39;00m \u001b[39mNone\u001b[39;00m \u001b[39mor\u001b[39;00m (amt \u001b[39m!=\u001b[39m \u001b[39m0\u001b[39m \u001b[39mand\u001b[39;00m \u001b[39mnot\u001b[39;00m data)\n\u001b[1;32m    883\u001b[0m \u001b[39mif\u001b[39;00m \u001b[39mnot\u001b[39;00m data \u001b[39mand\u001b[39;00m \u001b[39mlen\u001b[39m(\u001b[39mself\u001b[39m\u001b[39m.\u001b[39m_decoded_buffer) \u001b[39m==\u001b[39m \u001b[39m0\u001b[39m:\n",
      "File \u001b[0;32m~/.pyenv/versions/3.9.17/envs/cricket_yug_scrapper/lib/python3.9/site-packages/urllib3/response.py:814\u001b[0m, in \u001b[0;36mHTTPResponse._raw_read\u001b[0;34m(self, amt)\u001b[0m\n\u001b[1;32m    811\u001b[0m fp_closed \u001b[39m=\u001b[39m \u001b[39mgetattr\u001b[39m(\u001b[39mself\u001b[39m\u001b[39m.\u001b[39m_fp, \u001b[39m\"\u001b[39m\u001b[39mclosed\u001b[39m\u001b[39m\"\u001b[39m, \u001b[39mFalse\u001b[39;00m)\n\u001b[1;32m    813\u001b[0m \u001b[39mwith\u001b[39;00m \u001b[39mself\u001b[39m\u001b[39m.\u001b[39m_error_catcher():\n\u001b[0;32m--> 814\u001b[0m     data \u001b[39m=\u001b[39m \u001b[39mself\u001b[39;49m\u001b[39m.\u001b[39;49m_fp_read(amt) \u001b[39mif\u001b[39;00m \u001b[39mnot\u001b[39;00m fp_closed \u001b[39melse\u001b[39;00m \u001b[39mb\u001b[39m\u001b[39m\"\u001b[39m\u001b[39m\"\u001b[39m\n\u001b[1;32m    815\u001b[0m     \u001b[39mif\u001b[39;00m amt \u001b[39mis\u001b[39;00m \u001b[39mnot\u001b[39;00m \u001b[39mNone\u001b[39;00m \u001b[39mand\u001b[39;00m amt \u001b[39m!=\u001b[39m \u001b[39m0\u001b[39m \u001b[39mand\u001b[39;00m \u001b[39mnot\u001b[39;00m data:\n\u001b[1;32m    816\u001b[0m         \u001b[39m# Platform-specific: Buggy versions of Python.\u001b[39;00m\n\u001b[1;32m    817\u001b[0m         \u001b[39m# Close the connection when no data is returned\u001b[39;00m\n\u001b[0;32m   (...)\u001b[0m\n\u001b[1;32m    822\u001b[0m         \u001b[39m# not properly close the connection in all cases. There is\u001b[39;00m\n\u001b[1;32m    823\u001b[0m         \u001b[39m# no harm in redundantly calling close.\u001b[39;00m\n\u001b[1;32m    824\u001b[0m         \u001b[39mself\u001b[39m\u001b[39m.\u001b[39m_fp\u001b[39m.\u001b[39mclose()\n",
      "File \u001b[0;32m~/.pyenv/versions/3.9.17/envs/cricket_yug_scrapper/lib/python3.9/site-packages/urllib3/response.py:799\u001b[0m, in \u001b[0;36mHTTPResponse._fp_read\u001b[0;34m(self, amt)\u001b[0m\n\u001b[1;32m    796\u001b[0m     \u001b[39mreturn\u001b[39;00m buffer\u001b[39m.\u001b[39mgetvalue()\n\u001b[1;32m    797\u001b[0m \u001b[39melse\u001b[39;00m:\n\u001b[1;32m    798\u001b[0m     \u001b[39m# StringIO doesn't like amt=None\u001b[39;00m\n\u001b[0;32m--> 799\u001b[0m     \u001b[39mreturn\u001b[39;00m \u001b[39mself\u001b[39;49m\u001b[39m.\u001b[39;49m_fp\u001b[39m.\u001b[39;49mread(amt) \u001b[39mif\u001b[39;00m amt \u001b[39mis\u001b[39;00m \u001b[39mnot\u001b[39;00m \u001b[39mNone\u001b[39;00m \u001b[39melse\u001b[39;00m \u001b[39mself\u001b[39m\u001b[39m.\u001b[39m_fp\u001b[39m.\u001b[39mread()\n",
      "File \u001b[0;32m~/.pyenv/versions/3.9.17/lib/python3.9/http/client.py:463\u001b[0m, in \u001b[0;36mHTTPResponse.read\u001b[0;34m(self, amt)\u001b[0m\n\u001b[1;32m    460\u001b[0m \u001b[39mif\u001b[39;00m amt \u001b[39mis\u001b[39;00m \u001b[39mnot\u001b[39;00m \u001b[39mNone\u001b[39;00m:\n\u001b[1;32m    461\u001b[0m     \u001b[39m# Amount is given, implement using readinto\u001b[39;00m\n\u001b[1;32m    462\u001b[0m     b \u001b[39m=\u001b[39m \u001b[39mbytearray\u001b[39m(amt)\n\u001b[0;32m--> 463\u001b[0m     n \u001b[39m=\u001b[39m \u001b[39mself\u001b[39;49m\u001b[39m.\u001b[39;49mreadinto(b)\n\u001b[1;32m    464\u001b[0m     \u001b[39mreturn\u001b[39;00m \u001b[39mmemoryview\u001b[39m(b)[:n]\u001b[39m.\u001b[39mtobytes()\n\u001b[1;32m    465\u001b[0m \u001b[39melse\u001b[39;00m:\n\u001b[1;32m    466\u001b[0m     \u001b[39m# Amount is not given (unbounded read) so we must check self.length\u001b[39;00m\n\u001b[1;32m    467\u001b[0m     \u001b[39m# and self.chunked\u001b[39;00m\n",
      "File \u001b[0;32m~/.pyenv/versions/3.9.17/lib/python3.9/http/client.py:507\u001b[0m, in \u001b[0;36mHTTPResponse.readinto\u001b[0;34m(self, b)\u001b[0m\n\u001b[1;32m    502\u001b[0m         b \u001b[39m=\u001b[39m \u001b[39mmemoryview\u001b[39m(b)[\u001b[39m0\u001b[39m:\u001b[39mself\u001b[39m\u001b[39m.\u001b[39mlength]\n\u001b[1;32m    504\u001b[0m \u001b[39m# we do not use _safe_read() here because this may be a .will_close\u001b[39;00m\n\u001b[1;32m    505\u001b[0m \u001b[39m# connection, and the user is reading more bytes than will be provided\u001b[39;00m\n\u001b[1;32m    506\u001b[0m \u001b[39m# (for example, reading in 1k chunks)\u001b[39;00m\n\u001b[0;32m--> 507\u001b[0m n \u001b[39m=\u001b[39m \u001b[39mself\u001b[39;49m\u001b[39m.\u001b[39;49mfp\u001b[39m.\u001b[39;49mreadinto(b)\n\u001b[1;32m    508\u001b[0m \u001b[39mif\u001b[39;00m \u001b[39mnot\u001b[39;00m n \u001b[39mand\u001b[39;00m b:\n\u001b[1;32m    509\u001b[0m     \u001b[39m# Ideally, we would raise IncompleteRead if the content-length\u001b[39;00m\n\u001b[1;32m    510\u001b[0m     \u001b[39m# wasn't satisfied, but it might break compatibility.\u001b[39;00m\n\u001b[1;32m    511\u001b[0m     \u001b[39mself\u001b[39m\u001b[39m.\u001b[39m_close_conn()\n",
      "File \u001b[0;32m~/.pyenv/versions/3.9.17/lib/python3.9/socket.py:704\u001b[0m, in \u001b[0;36mSocketIO.readinto\u001b[0;34m(self, b)\u001b[0m\n\u001b[1;32m    702\u001b[0m \u001b[39mwhile\u001b[39;00m \u001b[39mTrue\u001b[39;00m:\n\u001b[1;32m    703\u001b[0m     \u001b[39mtry\u001b[39;00m:\n\u001b[0;32m--> 704\u001b[0m         \u001b[39mreturn\u001b[39;00m \u001b[39mself\u001b[39;49m\u001b[39m.\u001b[39;49m_sock\u001b[39m.\u001b[39;49mrecv_into(b)\n\u001b[1;32m    705\u001b[0m     \u001b[39mexcept\u001b[39;00m timeout:\n\u001b[1;32m    706\u001b[0m         \u001b[39mself\u001b[39m\u001b[39m.\u001b[39m_timeout_occurred \u001b[39m=\u001b[39m \u001b[39mTrue\u001b[39;00m\n",
      "\u001b[0;31mKeyboardInterrupt\u001b[0m: "
     ]
    }
   ],
   "source": [
    "ALL_PLAYER_STATS = []\n",
    "\n",
    "counter = 0\n",
    "for player in player_json_data:\n",
    "    PLAYER_STAT = {}\n",
    "    name = False\n",
    "    player_id = str(player['id'])\n",
    "    PLAYER_STAT['playerId'] = player['id']\n",
    "    PLAYER_STAT['country'] = player['country']\n",
    "    PLAYER_STAT['totalTestMatches'] = player['test_matches']\n",
    "    PLAYER_STAT['totalODIMatches'] = player['odi_matches']\n",
    "    PLAYER_STAT['totalT20Matches'] = player['t20_matches']\n",
    "    PLAYER_STAT['dob'] = player['dob']\n",
    "\n",
    "    if player['test_matches'] > 0:\n",
    "        website_html = requests.get(player_base_test_url + player_id)\n",
    "        website_soup = BeautifulSoup(website_html.content, 'html.parser')\n",
    "        PLAYER_STAT['test'] = test_stat(website_soup)\n",
    "        if not name:\n",
    "            try:\n",
    "                PLAYER_STAT['name'] = website_soup.find('td', string=\"Full Name:\").find_next('td').text.strip()\n",
    "                PLAYER_STAT['battingStyle'] = website_soup.find('td', string=\"Bats:\").find_next('td').text.strip()\n",
    "                PLAYER_STAT['bowlingStyle'] = website_soup.find('td', string=\"Bowls:\").find_next('td').text.strip()\n",
    "                name = True\n",
    "            except:\n",
    "                print(\"ERROR ERROR ERROR ERROR ERROR ERROR\", player_id)\n",
    "                continue\n",
    "    \n",
    "    if player['odi_matches'] > 0:\n",
    "        website_html = requests.get(player_base_odi_url + player_id)\n",
    "        website_soup = BeautifulSoup(website_html.content, 'html.parser')\n",
    "        PLAYER_STAT['odi'] = odi_t20_stat(website_soup)\n",
    "        if not name:\n",
    "            try:\n",
    "                PLAYER_STAT['name'] = website_soup.find('td', string=\"Full Name:\").find_next('td').text.strip()\n",
    "                PLAYER_STAT['battingStyle'] = website_soup.find('td', string=\"Bats:\").find_next('td').text.strip()\n",
    "                PLAYER_STAT['bowlingStyle'] = website_soup.find('td', string=\"Bowls:\").find_next('td').text.strip()\n",
    "                name = True\n",
    "            except:\n",
    "                print(\"ERROR ERROR ERROR ERROR ERROR ERROR ERROR\", player_id)\n",
    "                continue\n",
    "    \n",
    "    if player['t20_matches'] > 0:\n",
    "        website_html = requests.get(player_base_t20_url + player_id)\n",
    "        website_soup = BeautifulSoup(website_html.content, 'html.parser')\n",
    "        PLAYER_STAT['t20'] = odi_t20_stat(website_soup)\n",
    "        if not name:\n",
    "            try:\n",
    "                PLAYER_STAT['name'] = website_soup.find('td', string=\"Full Name:\").find_next('td').text.strip()\n",
    "                PLAYER_STAT['battingStyle'] = website_soup.find('td', string=\"Bats:\").find_next('td').text.strip()\n",
    "                PLAYER_STAT['bowlingStyle'] = website_soup.find('td', string=\"Bowls:\").find_next('td').text.strip()\n",
    "                name = True\n",
    "            except:\n",
    "                print(\"ERROR ERROR ERROR ERROR ERROR ERROR\", player_id)\n",
    "                continue\n",
    "    \n",
    "    ALL_PLAYER_STATS.append(PLAYER_STAT)\n",
    "    print(counter, player_id)\n",
    "    counter += 1"
   ]
  },
  {
   "cell_type": "code",
   "execution_count": 322,
   "metadata": {},
   "outputs": [
    {
     "data": {
      "text/plain": [
       "{'name': 'aaftab alam khan',\n",
       " 'id': 6329,\n",
       " 'dob': '31/01/1986',\n",
       " 'country': 'malta',\n",
       " 'test_matches': 0,\n",
       " 'odi_matches': 0,\n",
       " 't20_matches': 27}"
      ]
     },
     "execution_count": 322,
     "metadata": {},
     "output_type": "execute_result"
    }
   ],
   "source": [
    "player_json_data[0]"
   ]
  },
  {
   "cell_type": "code",
   "execution_count": null,
   "metadata": {},
   "outputs": [],
   "source": []
  },
  {
   "cell_type": "code",
   "execution_count": null,
   "metadata": {},
   "outputs": [],
   "source": []
  },
  {
   "cell_type": "code",
   "execution_count": null,
   "metadata": {},
   "outputs": [],
   "source": []
  },
  {
   "cell_type": "code",
   "execution_count": null,
   "metadata": {},
   "outputs": [],
   "source": []
  }
 ],
 "metadata": {
  "kernelspec": {
   "display_name": "resume_parser_3.8.16",
   "language": "python",
   "name": "python3"
  },
  "language_info": {
   "codemirror_mode": {
    "name": "ipython",
    "version": 3
   },
   "file_extension": ".py",
   "mimetype": "text/x-python",
   "name": "python",
   "nbconvert_exporter": "python",
   "pygments_lexer": "ipython3",
   "version": "3.8.16"
  },
  "orig_nbformat": 4,
  "vscode": {
   "interpreter": {
    "hash": "0f1230d76e4e4c480a3d0be76245f8daf28021e0c2a980a73fb7f2b6114931c1"
   }
  }
 },
 "nbformat": 4,
 "nbformat_minor": 2
}
